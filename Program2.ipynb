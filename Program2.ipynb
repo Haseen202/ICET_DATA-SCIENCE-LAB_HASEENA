{
  "nbformat": 4,
  "nbformat_minor": 0,
  "metadata": {
    "colab": {
      "provenance": []
    },
    "kernelspec": {
      "name": "python3",
      "display_name": "Python 3"
    },
    "language_info": {
      "name": "python"
    }
  },
  "cells": [
    {
      "cell_type": "code",
      "execution_count": null,
      "metadata": {
        "id": "-1Kjp02d0Slt"
      },
      "outputs": [],
      "source": [
        "Array Operations"
      ]
    },
    {
      "cell_type": "code",
      "source": [
        "import numpy as np\n",
        "a=np.array([1,2,3])\n",
        "b=np.array([4,5,6])\n",
        "add_result=np.add(a,b)\n",
        "print(\"Addition:\",add_result)"
      ],
      "metadata": {
        "colab": {
          "base_uri": "https://localhost:8080/"
        },
        "id": "rtfpuAmLJcrY",
        "outputId": "7722f39a-b0ca-4dae-e4a8-702d2527263c"
      },
      "execution_count": null,
      "outputs": [
        {
          "output_type": "stream",
          "name": "stdout",
          "text": [
            "Addition: [5 7 9]\n"
          ]
        }
      ]
    },
    {
      "cell_type": "markdown",
      "source": [
        "Subtraction"
      ],
      "metadata": {
        "id": "X19s2UTPKzQU"
      }
    },
    {
      "cell_type": "code",
      "source": [
        "sub_result=np.subtract(a,b)\n",
        "print(\"Subtraction:\",sub_result)"
      ],
      "metadata": {
        "colab": {
          "base_uri": "https://localhost:8080/"
        },
        "id": "6TMoe9AvK4D0",
        "outputId": "1762cc0e-d104-4ac1-cd97-8ce2e9595bec"
      },
      "execution_count": null,
      "outputs": [
        {
          "output_type": "stream",
          "name": "stdout",
          "text": [
            "Subtraction: [-3 -3 -3]\n"
          ]
        }
      ]
    },
    {
      "cell_type": "markdown",
      "source": [
        "Multiplication"
      ],
      "metadata": {
        "id": "-yMtfiRkLWzT"
      }
    },
    {
      "cell_type": "code",
      "source": [
        "mul_result=np.multiply(a,b)\n",
        "print(\"Multiplication:\",mul_result)"
      ],
      "metadata": {
        "colab": {
          "base_uri": "https://localhost:8080/"
        },
        "id": "ivgHTJk4LbVV",
        "outputId": "9f78611a-4cb4-4eb7-c7fc-d50b9eb0e0cb"
      },
      "execution_count": null,
      "outputs": [
        {
          "output_type": "stream",
          "name": "stdout",
          "text": [
            "Multiplication: [ 4 10 18]\n"
          ]
        }
      ]
    },
    {
      "cell_type": "markdown",
      "source": [
        "Division"
      ],
      "metadata": {
        "id": "ZzpSobo7Lwv8"
      }
    },
    {
      "cell_type": "code",
      "source": [
        "div_result=np.divide(a,b)\n",
        "print(\"Division:\",div_result)"
      ],
      "metadata": {
        "id": "34uvbNgDL1Tt",
        "colab": {
          "base_uri": "https://localhost:8080/"
        },
        "outputId": "3fd2024a-e388-45be-fd31-b31740376884"
      },
      "execution_count": null,
      "outputs": [
        {
          "output_type": "stream",
          "name": "stdout",
          "text": [
            "Division: [0.25 0.4  0.5 ]\n"
          ]
        }
      ]
    },
    {
      "cell_type": "markdown",
      "source": [
        "Array Reshapping"
      ],
      "metadata": {
        "id": "xOOEPFnKMjV9"
      }
    },
    {
      "cell_type": "code",
      "source": [
        "import numpy as np\n",
        "array = np.arange(12)\n",
        "print(\"Original array:\",array)"
      ],
      "metadata": {
        "colab": {
          "base_uri": "https://localhost:8080/"
        },
        "id": "Y_qS7dbXMp9G",
        "outputId": "244968d9-8c72-4e9b-e96b-f060e046336d"
      },
      "execution_count": null,
      "outputs": [
        {
          "output_type": "stream",
          "name": "stdout",
          "text": [
            "Original array: [ 0  1  2  3  4  5  6  7  8  9 10 11]\n"
          ]
        }
      ]
    },
    {
      "cell_type": "markdown",
      "source": [
        "reshape 2D array"
      ],
      "metadata": {
        "id": "9gM9c06bNJr9"
      }
    },
    {
      "cell_type": "code",
      "source": [
        "reshaped_array=array.reshape((3,4))\n",
        "print(\"Reshaped to 3*4:\\n\",reshaped_array)"
      ],
      "metadata": {
        "colab": {
          "base_uri": "https://localhost:8080/"
        },
        "id": "Nsv950AgNN8O",
        "outputId": "71b53005-9318-4f56-d84d-81b1cc890eb3"
      },
      "execution_count": null,
      "outputs": [
        {
          "output_type": "stream",
          "name": "stdout",
          "text": [
            "Reshaped to 3*4:\n",
            " [[ 0  1  2  3]\n",
            " [ 4  5  6  7]\n",
            " [ 8  9 10 11]]\n"
          ]
        }
      ]
    },
    {
      "cell_type": "markdown",
      "source": [
        "reshape 3D array"
      ],
      "metadata": {
        "id": "p3rvJFz5N31I"
      }
    },
    {
      "cell_type": "code",
      "source": [
        "reshaped_array_3d=array.reshape((2,3,2))\n",
        "print(\"Reshaped to 2*3*2:\\n\",reshaped_array_3d)"
      ],
      "metadata": {
        "colab": {
          "base_uri": "https://localhost:8080/"
        },
        "id": "AaaphMphN8d2",
        "outputId": "278958b1-071d-4bb0-a72a-ff07be299713"
      },
      "execution_count": null,
      "outputs": [
        {
          "output_type": "stream",
          "name": "stdout",
          "text": [
            "Reshaped to 2*3*2:\n",
            " [[[ 0  1]\n",
            "  [ 2  3]\n",
            "  [ 4  5]]\n",
            "\n",
            " [[ 6  7]\n",
            "  [ 8  9]\n",
            "  [10 11]]]\n"
          ]
        }
      ]
    },
    {
      "cell_type": "markdown",
      "source": [
        "index and slicing"
      ],
      "metadata": {
        "id": "5Tyq1uQeOc6e"
      }
    },
    {
      "cell_type": "code",
      "source": [
        "create 2D array"
      ],
      "metadata": {
        "id": "5QiQQIpcOmbf"
      },
      "execution_count": null,
      "outputs": []
    },
    {
      "cell_type": "code",
      "source": [
        "import numpy as np\n",
        "array_2d = np.array([[1,2,3],[4,5,6],[7,8,9]])\n",
        "print(\"2D Array:\\n\",array_2d)"
      ],
      "metadata": {
        "colab": {
          "base_uri": "https://localhost:8080/"
        },
        "id": "OqBolZGAOtBf",
        "outputId": "1657f54d-4e25-4fa2-a689-2acc0b216e5e"
      },
      "execution_count": null,
      "outputs": [
        {
          "output_type": "stream",
          "name": "stdout",
          "text": [
            "2D Array:\n",
            " [[1 2 3]\n",
            " [4 5 6]\n",
            " [7 8 9]]\n"
          ]
        }
      ]
    },
    {
      "cell_type": "markdown",
      "source": [
        "access element at(1,2)"
      ],
      "metadata": {
        "id": "9hmdpbDWPR5N"
      }
    },
    {
      "cell_type": "code",
      "source": [
        "element=array_2d[1,2]\n",
        "print(\"Element at (1,2):\",element)"
      ],
      "metadata": {
        "colab": {
          "base_uri": "https://localhost:8080/"
        },
        "id": "pyd8W0K2PYoe",
        "outputId": "261033bb-d174-4e82-ecbe-1d5e252ee899"
      },
      "execution_count": null,
      "outputs": [
        {
          "output_type": "stream",
          "name": "stdout",
          "text": [
            "Element at (1,2): 6\n"
          ]
        }
      ]
    },
    {
      "cell_type": "markdown",
      "source": [
        "slicing a subarray (row 1 to 2,columns 0 to 1)"
      ],
      "metadata": {
        "id": "KcxPU0AkQPJ4"
      }
    },
    {
      "cell_type": "code",
      "source": [
        "subarray = array_2d[1:3,0:2]\n",
        "print(\"Sliced subarray:\\n\",subarray)"
      ],
      "metadata": {
        "colab": {
          "base_uri": "https://localhost:8080/"
        },
        "id": "DjLG4aUyQou8",
        "outputId": "2b47effc-202b-439e-f1d0-8db9fa8be24e"
      },
      "execution_count": null,
      "outputs": [
        {
          "output_type": "stream",
          "name": "stdout",
          "text": [
            "Sliced subarray:\n",
            " [[4 5]\n",
            " [7 8]]\n"
          ]
        }
      ]
    },
    {
      "cell_type": "markdown",
      "source": [
        "access a column (all rows,column 1)"
      ],
      "metadata": {
        "id": "MFUsKq5CRHrG"
      }
    },
    {
      "cell_type": "code",
      "source": [
        "column = array_2d[:,1]\n",
        "print(\"Column1:\",column)"
      ],
      "metadata": {
        "colab": {
          "base_uri": "https://localhost:8080/"
        },
        "id": "Xw8MDgTARWei",
        "outputId": "e4ec7b47-d9d6-4d50-aa8c-e8bb59f4717b"
      },
      "execution_count": null,
      "outputs": [
        {
          "output_type": "stream",
          "name": "stdout",
          "text": [
            "Column1: [2 5 8]\n"
          ]
        }
      ]
    },
    {
      "cell_type": "markdown",
      "source": [
        "Statistical operations"
      ],
      "metadata": {
        "id": "Z6kBhHUVSHyA"
      }
    },
    {
      "cell_type": "markdown",
      "source": [
        "create an array"
      ],
      "metadata": {
        "id": "ZHXmKe5XSR_R"
      }
    },
    {
      "cell_type": "code",
      "source": [
        "import numpy as np\n",
        "array = np.array([1,2,3,4,5,6,7,8,9,10])\n",
        "mean = np.mean(array)\n",
        "print(\"Mean:\",mean)"
      ],
      "metadata": {
        "colab": {
          "base_uri": "https://localhost:8080/"
        },
        "id": "ucc0LxUFSUf9",
        "outputId": "f6519eec-1542-450f-f7d3-9c4507f14084"
      },
      "execution_count": null,
      "outputs": [
        {
          "output_type": "stream",
          "name": "stdout",
          "text": [
            "Mean: 5.5\n"
          ]
        }
      ]
    },
    {
      "cell_type": "markdown",
      "source": [
        "calculate median"
      ],
      "metadata": {
        "id": "DXJgkrs7S7OP"
      }
    },
    {
      "cell_type": "code",
      "source": [
        "median = np.median(array)\n",
        "print(\"Median:\",median)"
      ],
      "metadata": {
        "colab": {
          "base_uri": "https://localhost:8080/"
        },
        "id": "FrKsIwLMS_UO",
        "outputId": "683103c8-1288-4195-a0d2-69cef5d2c375"
      },
      "execution_count": null,
      "outputs": [
        {
          "output_type": "stream",
          "name": "stdout",
          "text": [
            "Median: 5.5\n"
          ]
        }
      ]
    },
    {
      "cell_type": "markdown",
      "source": [
        "calculate standard deviation"
      ],
      "metadata": {
        "id": "6lekX_8qTTN7"
      }
    },
    {
      "cell_type": "markdown",
      "source": [
        "a"
      ],
      "metadata": {
        "id": "ewUnrH2lTYmM"
      }
    },
    {
      "cell_type": "code",
      "source": [
        "std_dev = np.std(array)\n",
        "print(\"Standard Deviation:\",std_dev)"
      ],
      "metadata": {
        "colab": {
          "base_uri": "https://localhost:8080/"
        },
        "id": "e0ElZIXmTwBI",
        "outputId": "3e833bd6-6921-4ce8-cdc9-38f412b31d1f"
      },
      "execution_count": null,
      "outputs": [
        {
          "output_type": "stream",
          "name": "stdout",
          "text": [
            "Standard Deviation: 2.8722813232690143\n"
          ]
        }
      ]
    },
    {
      "cell_type": "markdown",
      "source": [
        "find minimum and maximum values"
      ],
      "metadata": {
        "id": "FLMe3KX_TyuV"
      }
    },
    {
      "cell_type": "code",
      "source": [
        "min_val = np.min(array)\n",
        "max_val = np.max(array)\n",
        "print(\"Minimum value:\",min_val)"
      ],
      "metadata": {
        "colab": {
          "base_uri": "https://localhost:8080/"
        },
        "id": "wcvUq8ufT5gA",
        "outputId": "d47261c8-dfe5-4660-ebbd-171090610e34"
      },
      "execution_count": null,
      "outputs": [
        {
          "output_type": "stream",
          "name": "stdout",
          "text": [
            "Minimum value: 1\n"
          ]
        }
      ]
    },
    {
      "cell_type": "code",
      "source": [
        "min_val = np.min(array)\n",
        "max_val = np.max(array)\n",
        "print(\"Minimum value:\",min_val)\n",
        "print(\"Maximum value:\",max_val)"
      ],
      "metadata": {
        "colab": {
          "base_uri": "https://localhost:8080/"
        },
        "id": "wzfZ8qqeUQZ7",
        "outputId": "d24c77ca-915a-4005-e10f-7cbf657ade88"
      },
      "execution_count": null,
      "outputs": [
        {
          "output_type": "stream",
          "name": "stdout",
          "text": [
            "Minimum value: 1\n",
            "Maximum value: 10\n"
          ]
        }
      ]
    }
  ]
}